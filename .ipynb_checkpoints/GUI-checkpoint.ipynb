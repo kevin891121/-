{
 "cells": [
  {
   "cell_type": "code",
   "execution_count": 1,
   "id": "bf5f6ea5",
   "metadata": {},
   "outputs": [
    {
     "name": "stdout",
     "output_type": "stream",
     "text": [
      "out of range\n",
      "out of range\n",
      "8\n"
     ]
    },
    {
     "ename": "SystemExit",
     "evalue": "0",
     "output_type": "error",
     "traceback": [
      "An exception has occurred, use %tb to see the full traceback.\n",
      "\u001b[1;31mSystemExit\u001b[0m\u001b[1;31m:\u001b[0m 0\n"
     ]
    },
    {
     "name": "stderr",
     "output_type": "stream",
     "text": [
      "C:\\Users\\kevin\\anaconda3\\lib\\site-packages\\IPython\\core\\interactiveshell.py:3452: UserWarning: To exit: use 'exit', 'quit', or Ctrl-D.\n",
      "  warn(\"To exit: use 'exit', 'quit', or Ctrl-D.\", stacklevel=1)\n"
     ]
    },
    {
     "data": {
      "image/png": "[encoded data removed]",
      "text/plain": [
       "<Figure size 432x288 with 1 Axes>"
      ]
     },
     "metadata": {
      "needs_background": "light"
     },
     "output_type": "display_data"
    }
   ],
   "source": [
    "from PyQt5 import QtWidgets, QtGui\n",
    "from numerical import Ui_MainWindow as UI\n",
    "from sklearn import datasets\n",
    "import pickle\n",
    "import numpy as np\n",
    "import matplotlib.pyplot as plt\n",
    "\n",
    "class controller(QtWidgets.QMainWindow):\n",
    "    def __init__(self):\n",
    "        super().__init__()\n",
    "        self.ui = UI()\n",
    "        self.ui.setupUi(self)\n",
    "        \n",
    "        # 提供按鈕功能\n",
    "        self.ui.pushButton.clicked.connect(self.number)\n",
    "        \n",
    "        # 載入模型\n",
    "        with open('training.pkl', 'rb') as f:\n",
    "            self.model = pickle.load(f)\n",
    "            \n",
    "        # 載入資料\n",
    "        digits = datasets.load_digits()\n",
    "        self.data = digits.images.reshape((1797, -1))\n",
    "\n",
    "        \n",
    "    def number(self):\n",
    "        # \n",
    "        try:\n",
    "            n = int(self.ui.lineEdit.text())\n",
    "        except:\n",
    "            print('error occur')\n",
    "            return\n",
    "        if not 0 <= n < 1797: \n",
    "            print('out of range')\n",
    "            return\n",
    "        d = self.data[n]\n",
    "        p = self.model.predict(d[np.newaxis])\n",
    "        print(p[0])\n",
    "        self.plot(d)\n",
    "    \n",
    "    def plot(self, d):\n",
    "        plt.axis('off')\n",
    "        plt.imshow(d.reshape(8,8), cmap=plt.cm.gray_r, interpolation='nearest')\n",
    "        plt.savefig('temp.png')\n",
    "        self.imgUpdate()\n",
    "        \n",
    "    def imgUpdate(self):\n",
    "        self.ui.label_2.setPixmap(QtGui.QPixmap('temp.png'))\n",
    "        \n",
    "import sys\n",
    "app = QtWidgets.QApplication(sys.argv)\n",
    "window = controller()\n",
    "window.show()\n",
    "sys.exit(app.exec_())"
   ]
  }
 ],
 "metadata": {
  "kernelspec": {
   "display_name": "Python 3 (ipykernel)",
   "language": "python",
   "name": "python3"
  },
  "language_info": {
   "codemirror_mode": {
    "name": "ipython",
    "version": 3
   },
   "file_extension": ".py",
   "mimetype": "text/x-python",
   "name": "python",
   "nbconvert_exporter": "python",
   "pygments_lexer": "ipython3",
   "version": "3.9.7"
  }
 },
 "nbformat": 4,
 "nbformat_minor": 5
}
