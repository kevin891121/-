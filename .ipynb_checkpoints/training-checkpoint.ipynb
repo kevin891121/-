{
 "cells": [
  {
   "cell_type": "code",
   "execution_count": 5,
   "id": "58fbf076",
   "metadata": {},
   "outputs": [
    {
     "name": "stdout",
     "output_type": "stream",
     "text": [
      "Classification report for classifier SVC(gamma=0.001):\n",
      "              precision    recall  f1-score   support\n",
      "\n",
      "           0       0.99      0.99      0.99       115\n",
      "           1       0.94      0.97      0.96       122\n",
      "           2       0.98      0.97      0.97       116\n",
      "           3       0.97      0.90      0.94       122\n",
      "           4       0.98      0.96      0.97       124\n",
      "           5       0.94      0.96      0.95       121\n",
      "           6       0.99      0.98      0.98       121\n",
      "           7       0.96      1.00      0.98       120\n",
      "           8       0.93      0.91      0.92       116\n",
      "           9       0.89      0.96      0.92       121\n",
      "\n",
      "    accuracy                           0.96      1198\n",
      "   macro avg       0.96      0.96      0.96      1198\n",
      "weighted avg       0.96      0.96      0.96      1198\n",
      "\n",
      "\n",
      "Confusion matrix:\n",
      "[[114   0   0   0   1   0   0   0   0   0]\n",
      " [  0 118   1   0   0   1   0   0   2   0]\n",
      " [  0   0 112   2   0   0   0   1   0   1]\n",
      " [  0   0   0 110   0   3   0   3   6   0]\n",
      " [  0   0   0   0 119   0   0   1   0   4]\n",
      " [  0   0   0   0   1 116   1   0   0   3]\n",
      " [  1   1   0   0   0   1 118   0   0   0]\n",
      " [  0   0   0   0   0   0   0 120   0   0]\n",
      " [  0   3   1   0   0   1   0   0 105   6]\n",
      " [  0   3   0   1   0   1   0   0   0 116]]\n"
     ]
    },
    {
     "data": {
      "image/png": "[encoded data removed]",
      "text/plain": [
       "<Figure size 432x288 with 4 Axes>"
      ]
     },
     "metadata": {
      "needs_background": "light"
     },
     "output_type": "display_data"
    }
   ],
   "source": [
    "import matplotlib.pyplot as plt\n",
    "import pickle\n",
    "from sklearn import datasets, svm, metrics\n",
    "from PIL import  ImageTk, Image\n",
    "\n",
    "import tkinter as tk\n",
    "window = tk.Tk()\n",
    "window.title('window')\n",
    "\n",
    "digits = datasets.load_digits()\n",
    "\n",
    "#將圖片與其編碼連結在一起後，把前4個圖片與前對應編碼印出來\n",
    "images_and_labels = list(zip(digits.images, digits.target))\n",
    "for index, (image, label) in enumerate(images_and_labels[:4]):\n",
    "    plt.subplot(3, 4, index + 1)\n",
    "    plt.axis('off')\n",
    "    plt.imshow(image, cmap=plt.cm.gray_r, interpolation='nearest')\n",
    "    plt.title('Training: %d' % label)\n",
    "\n",
    "\n",
    "n_samples = len(digits.images)\n",
    "data = digits.images.reshape((n_samples, -1))\n",
    "\n",
    "classifier = svm.SVC(gamma=0.001)\n",
    "classifier.fit(data[:n_samples // 3], digits.target[:n_samples // 3])\n",
    "\n",
    "pickle.dump(classifier,open('training.pkl','wb'))\n",
    "\n",
    "expected = digits.target[n_samples // 3:]\n",
    "predicted = classifier.predict(data[n_samples // 3:])\n",
    "\n",
    "print(\"Classification report for classifier %s:\\n%s\\n\"% (classifier, metrics.classification_report(expected, predicted)))\n",
    "print(\"Confusion matrix:\\n%s\" % metrics.confusion_matrix(expected, predicted))\n",
    "\n",
    "plt.show()"
   ]
  },
  {
   "cell_type": "code",
   "execution_count": null,
   "id": "03ea28cf",
   "metadata": {},
   "outputs": [],
   "source": []
  },
  {
   "cell_type": "code",
   "execution_count": null,
   "id": "e231a0cc",
   "metadata": {},
   "outputs": [],
   "source": []
  },
  {
   "cell_type": "code",
   "execution_count": null,
   "id": "5e80bd0e",
   "metadata": {},
   "outputs": [],
   "source": []
  }
 ],
 "metadata": {
  "kernelspec": {
   "display_name": "Python 3 (ipykernel)",
   "language": "python",
   "name": "python3"
  },
  "language_info": {
   "codemirror_mode": {
    "name": "ipython",
    "version": 3
   },
   "file_extension": ".py",
   "mimetype": "text/x-python",
   "name": "python",
   "nbconvert_exporter": "python",
   "pygments_lexer": "ipython3",
   "version": "3.9.7"
  }
 },
 "nbformat": 4,
 "nbformat_minor": 5
}
